{
  "nbformat": 4,
  "nbformat_minor": 0,
  "metadata": {
    "colab": {
      "name": "ted.py",
      "version": "0.3.2",
      "provenance": [],
      "collapsed_sections": [],
      "include_colab_link": true
    },
    "kernelspec": {
      "name": "python3",
      "display_name": "Python 3"
    }
  },
  "cells": [
    {
      "cell_type": "markdown",
      "metadata": {
        "id": "view-in-github",
        "colab_type": "text"
      },
      "source": [
        "<a href=\"https://colab.research.google.com/github/CamilaKim/python_study/blob/master/ted_py.ipynb\" target=\"_parent\"><img src=\"https://colab.research.google.com/assets/colab-badge.svg\" alt=\"Open In Colab\"/></a>"
      ]
    },
    {
      "metadata": {
        "id": "a_tEiTilWX7x",
        "colab_type": "code",
        "outputId": "c3a23b27-b35f-4be0-adf4-d763bea11719",
        "colab": {
          "base_uri": "https://localhost:8080/",
          "height": 54
        }
      },
      "cell_type": "code",
      "source": [
        "!pip install fake_useragent"
      ],
      "execution_count": 0,
      "outputs": [
        {
          "output_type": "stream",
          "text": [
            "Requirement already satisfied: fake_useragent in /usr/local/lib/python3.6/dist-packages (0.1.11)\n"
          ],
          "name": "stdout"
        }
      ]
    },
    {
      "metadata": {
        "id": "E4ImYvrXpKBp",
        "colab_type": "code",
        "colab": {}
      },
      "cell_type": "code",
      "source": [
        "from bs4 import BeautifulSoup\n",
        "from fake_useragent import UserAgent\n",
        "import requests\n",
        "\n",
        "def extracturls(num,lang2):\n",
        "  urllist=[]\n",
        "  ua = UserAgent()\n",
        "  header = {'User-Agent':str(ua.chrome)}\n",
        "  res=requests.get('https://www.ted.com/talks?language='+lang2+'&page='+str(num)+'&sort=newest',headers=header).content\n",
        "  soup=BeautifulSoup(res,'lxml')\n",
        "  find_href=soup.find_all('a',class_='')\n",
        "  for url in find_href:\n",
        "    if url['href'].startswith(\"/talks\"):\n",
        "      urllist.append(url['href'][:-12])\n",
        "  urllist2=list(set(urllist))\n",
        "  return urllist2\n",
        "\n",
        "def crawling(url,lang):\n",
        "  subtitle=[]\n",
        "  sub=[]\n",
        "  ua = UserAgent()\n",
        "  header = {'User-Agent':str(ua.chrome)}\n",
        "  res=requests.get('https://www.ted.com'+url+'/transcript?language='+lang,headers=header).text\n",
        "  soup=BeautifulSoup(res,'lxml').findAll('div',{'class':\"Grid__cell flx-s:1 p-r:4\"})\n",
        "  for i in soup:\n",
        "    raw=i.text.replace('\\n\\n\\n', '\\n\\n')\n",
        "    raw=raw.replace('\\n',' ')\n",
        "    raw=raw.strip()\n",
        "    sub.extend(raw.split('\\t'))\n",
        "  for text in sub:\n",
        "    if not text=='':\n",
        "      subtitle.append(text+'\\n')\n",
        "  return subtitle\n",
        "\n",
        "from google.colab import files\n",
        "def to_save(lang,name,content):\n",
        "  with open(lang+name+'.txt','w') as f:\n",
        "    f.write(''.join(content))\n",
        "#   files.download(lang+name+'.txt')\n",
        "  return 1\n",
        "\n",
        "def div(urllist,lang1,lang2):\n",
        "  list1=[]\n",
        "  list2=[]\n",
        "  lan1='en'\n",
        "  lan2='ko'\n",
        "  for num in range(len(urllist)):\n",
        "    if len(crawling(urllist[num],lang1))==len(crawling(urllist[num],lang2)):\n",
        "      print(num,'success!!','https://www.ted.com'+urllist[num])\n",
        "      list1.extend(crawling(urllist[num],lang1))\n",
        "      list2.extend(crawling(urllist[num],lang2))\n",
        "    else:\n",
        "      print(num,'fail!!','https://www.ted.com'+urllist[num])\n",
        "  return {lan1:list1,lan2:list2}\n",
        "\n",
        "lang1='en'\n",
        "lang2='ko'\n",
        "urllist=[]\n",
        "for num in range(0,85):\n",
        "  urllist.extend(extracturls(num,lang2))\n",
        "print(len(urllist))\n",
        "match=div(urllist,lang1,lang2)\n",
        "lan1=match[lang1]\n",
        "lan2=match[lang2]\n",
        "print(len(lan1),len(lan2))\n",
        "to_save('enko','Ted',lan1)\n",
        "to_save('koen','Ted',lan2)\n",
        "  "
      ],
      "execution_count": 0,
      "outputs": []
    }
  ]
}